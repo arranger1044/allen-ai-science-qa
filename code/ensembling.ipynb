{
 "cells": [
  {
   "cell_type": "code",
   "execution_count": 1,
   "metadata": {
    "collapsed": false
   },
   "outputs": [],
   "source": [
    "import numpy\n",
    "\n",
    "from ensemble import majority_vote, collect_predictions_from_dir, collect_predictions_from_dirs\n",
    "from ensemble import averaging_predictions\n",
    "from ensemble import weighted_averaging_predictions\n"
   ]
  },
  {
   "cell_type": "code",
   "execution_count": 18,
   "metadata": {
    "collapsed": false
   },
   "outputs": [
    {
     "name": "stdout",
     "output_type": "stream",
     "text": [
      "*** Processing dir: ../scores/\n",
      "Processing file: ../scores/066/train.scores.preds\n",
      "Processing file: ../scores/062/062_fg_train.scores\n",
      "Processing file: ../scores/071/071_fg_train.scores\n",
      "Processing file: ../scores/074/074_fg_train.scores\n",
      "Processing file: ../scores/1024/1024_fg_train.scores\n",
      "Processing file: ../scores/1002/1002_fg_train.scores\n",
      "Processing file: ../scores/067/067_fg_train.scores\n",
      "Processing file: ../scores/1009/train.scores\n",
      "Processing file: ../scores/1004/1004_fg_train.scores\n",
      "Processing file: ../scores/1017/1017_fg_train.scores\n",
      "Processing file: ../scores/1011/train.scores\n",
      "Processing file: ../scores/075/075_fg_train.scores\n",
      "Processing file: ../scores/070/070_fg_train.scores\n",
      "Processing file: ../scores/072/072_fg_train.scores\n",
      "Processing file: ../scores/051/051_train.scores\n",
      "Processing file: ../scores/1022/1022_fg_train.scores\n",
      "Processing file: ../scores/1019/1019_fg_train.scores\n",
      "Processing file: ../scores/065/train.scores.preds\n",
      "Processing file: ../scores/060/060_fg_train.scores\n",
      "Processing file: ../scores/1007/train.scores\n",
      "(2500, 4, 20)\n"
     ]
    }
   ],
   "source": [
    "dirs = [\n",
    "    # '../grid-scores/eng-anal/',\n",
    "    '../scores/',\n",
    "    # '../grid-scores/std-anal/',\n",
    "         \n",
    "       ]\n",
    "# dirs = ['../models/word2vec/041/3/',\n",
    "#        '../models/word2vec/051/1/',\n",
    "#       '../models/word2vec/065/1/',\n",
    "#       '../models/word2vec/066/1/']\n",
    "preds = collect_predictions_from_dirs(dirs,\n",
    "                                    'train.scores')\n",
    "print(preds.shape)"
   ]
  },
  {
   "cell_type": "code",
   "execution_count": 11,
   "metadata": {
    "collapsed": false
   },
   "outputs": [
    {
     "name": "stdout",
     "output_type": "stream",
     "text": [
      "(2500,)\n",
      "[3 2 3 ..., 0 0 2]\n"
     ]
    }
   ],
   "source": [
    "from ensemble import majority_vote\n",
    "hard_maj_preds = majority_vote(preds)\n",
    "print(hard_maj_preds.shape)\n",
    "print(hard_maj_preds)"
   ]
  },
  {
   "cell_type": "code",
   "execution_count": 12,
   "metadata": {
    "collapsed": false
   },
   "outputs": [
    {
     "name": "stdout",
     "output_type": "stream",
     "text": [
      "[2 2 3 ..., 1 2 2]\n"
     ]
    }
   ],
   "source": [
    "from ensemble import hard_median_predictions\n",
    "hard_med_preds = hard_median_predictions(preds)\n",
    "print(hard_med_preds)"
   ]
  },
  {
   "cell_type": "code",
   "execution_count": 13,
   "metadata": {
    "collapsed": false
   },
   "outputs": [
    {
     "name": "stdout",
     "output_type": "stream",
     "text": [
      "[2 2 3 ..., 1 2 2]\n"
     ]
    }
   ],
   "source": [
    "from ensemble import hard_ranked_averaging_predictions\n",
    "\n",
    "hard_rank_preds = hard_ranked_averaging_predictions(preds)\n",
    "print(hard_rank_preds)"
   ]
  },
  {
   "cell_type": "code",
   "execution_count": 14,
   "metadata": {
    "collapsed": false
   },
   "outputs": [
    {
     "name": "stdout",
     "output_type": "stream",
     "text": [
      "[3 2 3 ..., 0 2 2]\n"
     ]
    }
   ],
   "source": [
    "from ensemble import hard_averaging_predictions\n",
    "\n",
    "hard_avg_preds = hard_averaging_predictions(preds)\n",
    "print(hard_avg_preds)"
   ]
  },
  {
   "cell_type": "code",
   "execution_count": 15,
   "metadata": {
    "collapsed": false
   },
   "outputs": [
    {
     "name": "stdout",
     "output_type": "stream",
     "text": [
      "[3 2 3 ..., 1 2 2]\n"
     ]
    }
   ],
   "source": [
    "from ensemble import hard_geom_averaging_predictions\n",
    "\n",
    "hard_geom_preds = hard_geom_averaging_predictions(preds)\n",
    "print(hard_geom_preds)"
   ]
  },
  {
   "cell_type": "code",
   "execution_count": 16,
   "metadata": {
    "collapsed": false
   },
   "outputs": [
    {
     "name": "stdout",
     "output_type": "stream",
     "text": [
      "[3 2 3 ..., 1 2 2]\n"
     ]
    }
   ],
   "source": [
    "from ensemble import hard_harm_averaging_predictions\n",
    "\n",
    "hard_harm_preds = hard_harm_averaging_predictions(preds)\n",
    "print(hard_harm_preds)"
   ]
  },
  {
   "cell_type": "code",
   "execution_count": 17,
   "metadata": {
    "collapsed": false
   },
   "outputs": [
    {
     "name": "stdout",
     "output_type": "stream",
     "text": [
      "Loaded datasets with 2500 X 7 in 0.012797359988326207 secs\n",
      "\n",
      "[2 2 3 1 1 1 0 0 3 2 3 3 0 2 1 1 2 0 1 1 2 2 2 3 0 1 3 3 1 1 1 1 1 0 0]\n",
      "[3 2 3 3 1 1 0 0 2 0 3 3 0 3 2 1 0 2 3 1 2 2 1 3 3 1 3 2 1 3 2 1 1 0 2]\n",
      "[3 2 3 3 1 1 0 0 2 0 3 3 0 3 2 1 0 0 3 1 0 2 1 3 3 2 3 0 1 1 2 3 1 0 2]\n",
      "[2 2 3 3 1 1 0 0 2 0 3 3 0 3 2 1 0 0 3 2 2 2 1 3 3 2 3 1 1 1 2 1 1 0 2]\n",
      "[3 2 3 3 1 1 0 0 2 0 3 3 0 3 2 1 0 2 3 1 2 2 1 3 3 1 3 2 1 3 2 1 1 0 2]\n",
      "[3 2 3 3 1 1 0 0 2 0 3 3 0 3 2 1 0 2 3 1 2 2 1 3 3 1 3 2 1 3 2 1 1 0 2]\n",
      "[2 2 3 3 1 1 0 0 2 0 3 3 0 3 2 1 0 0 3 1 1 2 1 3 3 1 3 1 1 1 2 3 1 0 2]\n",
      "maj 0.5092\n",
      "avg 0.5288\n",
      "rnk 0.5228\n",
      "geo 0.5296\n",
      "har 0.5292\n",
      "med 0.5256\n"
     ]
    }
   ],
   "source": [
    "from dataset import load_data_frame\n",
    "from dataset import get_answers\n",
    "\n",
    "correct_answers = get_answers(load_data_frame('../data/training_set.tsv'), numeric=True)\n",
    "\n",
    "print(correct_answers[:35])\n",
    "print(hard_avg_preds[:35])\n",
    "print(hard_maj_preds[:35])\n",
    "print(hard_rank_preds[:35])\n",
    "print(hard_geom_preds[:35])\n",
    "print(hard_harm_preds[:35])\n",
    "print(hard_med_preds[:35])\n",
    "\n",
    "#print(correct_answers.shape, hard_preds.shape, hard_maj_preds.shape)\n",
    "from evaluation import compute_accuracy\n",
    "\n",
    "train_acc_maj = compute_accuracy(correct_answers, hard_maj_preds)\n",
    "train_avg_acc = compute_accuracy(correct_answers, hard_avg_preds)\n",
    "train_rank_acc = compute_accuracy(correct_answers, hard_rank_preds)\n",
    "train_geom_acc = compute_accuracy(correct_answers, hard_geom_preds)\n",
    "train_harm_acc = compute_accuracy(correct_answers, hard_harm_preds)\n",
    "train_med_acc = compute_accuracy(correct_answers, hard_med_preds)\n",
    "\n",
    "print('maj', train_acc_maj)\n",
    "print('avg', train_avg_acc)\n",
    "print('rnk', train_rank_acc)\n",
    "print('geo', train_geom_acc)\n",
    "print('har', train_harm_acc)\n",
    "print('med', train_med_acc)\n",
    "\n",
    "# print(train_rank)"
   ]
  },
  {
   "cell_type": "code",
   "execution_count": 31,
   "metadata": {
    "collapsed": false
   },
   "outputs": [
    {
     "name": "stdout",
     "output_type": "stream",
     "text": [
      "(4, 176)\n",
      "[  2032.35462128   2032.02507592             nan   2050.61030757\n",
      "   2032.8838677    2032.73757021             nan   2303.06159793\n",
      "   2031.67538761   2031.50519384   2032.60259684   2032.5870986\n",
      "   2032.78117003   2032.58284594   2031.82141082   2032.35577797\n",
      "   2028.52246981   2025.46700099   2047.03890807   2025.46700099\n",
      "   2031.57238517   2047.03890807   2025.46700099   2032.40156906\n",
      "   2025.46700099   2033.25373054   2033.25373054   2031.21100234\n",
      "   2028.52246981   2031.21100234   2031.57238517   2032.40156906\n",
      "   2031.42045548   2032.48307871   2033.74492402   2034.65333096\n",
      "   2031.35455373   2032.65109699   2031.11418158   2031.00394777\n",
      "   2032.17350707   2032.050418     2031.07724438   2030.97040198\n",
      "   2032.35462128   2050.61030757   2032.8838677    2303.06159793\n",
      "   2031.64051321   1860.89647961   2032.689357     2442.56956684\n",
      "   2032.62188527 -23476.20006208   2032.62839505   2248.89684337\n",
      "   2032.32870402   2161.59665913   2031.97602      1996.41313292\n",
      "   2031.39762905   2029.98432922   2025.9730402    2031.75750525\n",
      "   2027.52397907   2029.76474513   2031.62595312   2028.87746057\n",
      "   2031.7915433    2031.7746432    2032.11859732   2033.22252037\n",
      "   2031.53962329   2031.31354361   2029.59885588   2032.47422591\n",
      "   2032.05705188   2032.9675311    2032.43396472   2028.51168651\n",
      "   2028.36114792   2032.30743375   2032.27723575   2031.98426248\n",
      "   2032.04973933   2032.22020724   2031.97102547   2028.65175299\n",
      "   2028.78362648   2027.76843357   2030.17677195   2032.33778261\n",
      "   2032.17531841   2031.39512869   2031.80618312   2032.39520813\n",
      "   2031.74692466   2032.02920082   2033.50432507   2032.00490146\n",
      "   2032.2844513    2033.30333422   2033.81061672   2033.0125354\n",
      "   2031.64051321   2031.48242835             nan   1860.89647961\n",
      "   2032.689357     2032.59352144             nan   2442.56956684\n",
      "   2033.31434997   2121.60334012   2032.2429435    2032.62188527\n",
      "   2032.48648335             nan -23476.20006208   2031.21100234\n",
      "   2032.2429435    2031.8456511    2031.83905196   2032.01739169\n",
      "   2032.3918338    2032.86343837   2032.44395157   2032.04788745\n",
      "   2032.62839505   2032.41108372             nan   2248.89684337\n",
      "   2032.32870402   2032.09730077             nan   2161.59665913\n",
      "   2031.30875377   2032.17026584   2890.60535576   2032.35577797\n",
      "             nan   2031.06172123   2031.64256664   3754.15039672\n",
      "   2031.82141082             nan   2029.96084559   2031.51323685\n",
      "   1172.17116841   2031.50519384             nan   2030.41685303\n",
      "   2031.72256721   1818.83207295   2031.67538761             nan\n",
      "   2030.94118757   2032.39108803   1367.26988741   2032.5870986\n",
      "             nan   2031.13137129   2032.468025     1412.49773868\n",
      "   2032.60259684             nan   2031.39079352   2032.43733105\n",
      "   2023.49902577   2032.58284594             nan   2031.97602\n",
      "   2031.81245876             nan   1996.41313292   2033.15041574]\n",
      "[  2   6 106 110 117 130 134 140 145 150 155 160 165 170 173]\n"
     ]
    }
   ],
   "source": [
    "preds_sum = preds.sum(axis=0)\n",
    "print(preds_sum.shape)\n",
    "print(preds_sum[0,:])\n",
    "\n",
    "nans = []\n",
    "for j in range(preds_sum.shape[1]):\n",
    "    if numpy.isnan(preds_sum[0, j]):\n",
    "        nans.append(j)\n",
    "\n",
    "nans = numpy.array(nans)\n",
    "print(nans)"
   ]
  },
  {
   "cell_type": "code",
   "execution_count": 18,
   "metadata": {
    "collapsed": false,
    "scrolled": true
   },
   "outputs": [
    {
     "name": "stdout",
     "output_type": "stream",
     "text": [
      "   id  alpha  cbow_mean  embedding_size  iter  min_count  negative_sampling  \\\n",
      "0   0   0.05          0             100    50          1                  0   \n",
      "1   1   0.05          0             100    50          1                  0   \n",
      "2   2   0.05          0             100    50          1                  0   \n",
      "3   3   0.05          0             200    50          1                  0   \n",
      "4   4   0.05          0             200    50          1                  0   \n",
      "\n",
      "  pred_func preprocess_func retrieve_func  sample sim_func  skip_gram  \\\n",
      "0       sim               t           sum       0      cos          1   \n",
      "1       neg               t           sum       0      cos          1   \n",
      "2       gra               t           sum       0      cos          1   \n",
      "3       sim               t           sum       0      cos          1   \n",
      "4       neg               t           sum       0      cos          1   \n",
      "\n",
      "   window_size  train-acc test-acc  \n",
      "0           20     0.3804     None  \n",
      "1           20     0.3692     None  \n",
      "2           20     0.3792     None  \n",
      "3           20     0.3880     None  \n",
      "4           20     0.3744     None  \n",
      "[ 0.02741266  0.02660556  0.02732618  0.02796034  0.02698028  0.02859449\n",
      "  0.02813329  0.02683616  0.02882509  0.02813329  0.02709558  0.02905569\n",
      "  0.02723971  0.02692263  0.02772974  0.02778739  0.02660556  0.02824859\n",
      "  0.02847919  0.02715323  0.02928629  0.02807564  0.02692263  0.02937277\n",
      "  0.02712441  0.02625966  0.02758561  0.02807564  0.02683616  0.02853684\n",
      "  0.02862331  0.02657673  0.02911334  0.02830624  0.02712441  0.02905569]\n"
     ]
    }
   ],
   "source": [
    "import pandas\n",
    "exp_log_frame = pandas.read_csv('../models/word2vec/exp_2015-12-01_14-02-51/exp.log', sep='\\t')\n",
    "print(exp_log_frame.head(5))\n",
    "train_accs = exp_log_frame['train-acc'].values\n",
    "train_accs = train_accs / train_accs.sum()\n",
    "print(train_accs)"
   ]
  },
  {
   "cell_type": "code",
   "execution_count": 20,
   "metadata": {
    "collapsed": false
   },
   "outputs": [],
   "source": [
    "weights = train_accs[[29, 34,1,14,13,10,17,31,18,21,0,24,5,2,7,6,32,26,12,19,4,3,30,9,27,33,11,25,16,28,22,8,35,20,23,15]]"
   ]
  },
  {
   "cell_type": "code",
   "execution_count": 61,
   "metadata": {
    "collapsed": false
   },
   "outputs": [
    {
     "name": "stdout",
     "output_type": "stream",
     "text": [
      "[3 2 3 ..., 1 2 2]\n"
     ]
    }
   ],
   "source": [
    "from ensemble import logistic_predictions\n",
    "\n",
    "weights = numpy.array([  2.10529017e+00,   7.08935971e-01,   2.99012278e+00,   4.73161502e-01,\n",
    "   1.29016471e+00,   5.14166206e-01,  -1.18954591e+00,   2.35056025e+00,\n",
    "   1.01779912e+00,   2.11037757e+00,   2.56582521e+00,   6.41080907e-01,\n",
    "   7.19790185e-01,   5.12649849e+00,   3.96082419e-03,   9.68266001e-01,\n",
    "   1.44929295e+00,   8.87057981e-04,   4.37427774e-01,   2.52648141e+00,\n",
    "  -2.45098892e-04,   1.05500928e+00,  -1.45655638e-04,   2.84541622e-01,\n",
    "   1.10018611e+00,  -1.30771824e-01,  -4.49731268e-01,  -6.10189443e-01,\n",
    "  -1.72595846e-01,  -3.12473099e-01,   4.47089406e-04,   2.18298684e-02,\n",
    "   1.76664880e-04,   2.79428679e-04,   1.18625933e-01])\n",
    "weight_preds = logistic_predictions(preds, weights)\n",
    "\n",
    "from evaluation import hard_preds\n",
    "hard_preds = hard_preds(weight_preds)\n",
    "print(hard_preds)"
   ]
  },
  {
   "cell_type": "code",
   "execution_count": 4,
   "metadata": {
    "collapsed": false
   },
   "outputs": [
    {
     "name": "stdout",
     "output_type": "stream",
     "text": [
      "(2500, 4)\n"
     ]
    }
   ],
   "source": [
    "print(preds.shape)"
   ]
  },
  {
   "cell_type": "code",
   "execution_count": 7,
   "metadata": {
    "collapsed": false
   },
   "outputs": [
    {
     "name": "stdout",
     "output_type": "stream",
     "text": [
      "(2500, 4)\n",
      "[[ 4.88929355  5.03107139  5.01414867  5.06548639]\n",
      " [ 4.55279876  4.95767172  5.53756523  4.95196429]\n",
      " [ 4.6208823   5.11829712  4.78859637  5.47222421]\n",
      " [ 5.44903286  5.02635023  4.2228449   5.30177201]\n",
      " [ 5.31673134  5.67792163  4.59129256  4.41405447]\n",
      " [ 5.08178209  4.97858307  4.88787766  5.05175718]\n",
      " [ 5.47109603  4.96081704  4.94113698  4.62694995]\n",
      " [ 6.1874556   4.82318364  4.43022396  4.55913681]\n",
      " [ 4.92578776  4.8773982   5.0742031   5.12261094]\n",
      " [ 5.23659444  5.02617626  5.04252268  4.69470663]]\n"
     ]
    }
   ],
   "source": [
    "from ensemble import averaging_predictions\n",
    "\n",
    "# preds = numpy.nan_to_num(preds)\n",
    "avg_preds = averaging_predictions(preds)\n",
    "\n",
    "print(avg_preds.shape)\n",
    "print(avg_preds[:10])"
   ]
  },
  {
   "cell_type": "code",
   "execution_count": 8,
   "metadata": {
    "collapsed": false
   },
   "outputs": [
    {
     "name": "stdout",
     "output_type": "stream",
     "text": [
      "[3 2 3 ..., 1 0 2]\n"
     ]
    }
   ],
   "source": [
    "from evaluation import hard_preds\n",
    "hard_preds = hard_preds(avg_preds)\n",
    "print(hard_preds)"
   ]
  },
  {
   "cell_type": "code",
   "execution_count": 13,
   "metadata": {
    "collapsed": false
   },
   "outputs": [
    {
     "name": "stdout",
     "output_type": "stream",
     "text": [
      "Loaded datasets with 8132 X 6 in 0.031178485995042138 secs\n",
      "\n"
     ]
    },
    {
     "data": {
      "text/html": [
       "<div style=\"max-height:1000px;max-width:1500px;overflow:auto;\">\n",
       "<table border=\"1\" class=\"dataframe\">\n",
       "  <thead>\n",
       "    <tr style=\"text-align: right;\">\n",
       "      <th></th>\n",
       "      <th>correctAnswer</th>\n",
       "      <th>id</th>\n",
       "    </tr>\n",
       "  </thead>\n",
       "  <tbody>\n",
       "    <tr>\n",
       "      <th>0   </th>\n",
       "      <td> C</td>\n",
       "      <td> 102501</td>\n",
       "    </tr>\n",
       "    <tr>\n",
       "      <th>1   </th>\n",
       "      <td> B</td>\n",
       "      <td> 102502</td>\n",
       "    </tr>\n",
       "    <tr>\n",
       "      <th>2   </th>\n",
       "      <td> B</td>\n",
       "      <td> 102503</td>\n",
       "    </tr>\n",
       "    <tr>\n",
       "      <th>3   </th>\n",
       "      <td> B</td>\n",
       "      <td> 102504</td>\n",
       "    </tr>\n",
       "    <tr>\n",
       "      <th>4   </th>\n",
       "      <td> A</td>\n",
       "      <td> 102505</td>\n",
       "    </tr>\n",
       "    <tr>\n",
       "      <th>5   </th>\n",
       "      <td> A</td>\n",
       "      <td> 102506</td>\n",
       "    </tr>\n",
       "    <tr>\n",
       "      <th>6   </th>\n",
       "      <td> C</td>\n",
       "      <td> 102507</td>\n",
       "    </tr>\n",
       "    <tr>\n",
       "      <th>7   </th>\n",
       "      <td> A</td>\n",
       "      <td> 102508</td>\n",
       "    </tr>\n",
       "    <tr>\n",
       "      <th>8   </th>\n",
       "      <td> B</td>\n",
       "      <td> 102509</td>\n",
       "    </tr>\n",
       "    <tr>\n",
       "      <th>9   </th>\n",
       "      <td> C</td>\n",
       "      <td> 102510</td>\n",
       "    </tr>\n",
       "    <tr>\n",
       "      <th>10  </th>\n",
       "      <td> A</td>\n",
       "      <td> 102511</td>\n",
       "    </tr>\n",
       "    <tr>\n",
       "      <th>11  </th>\n",
       "      <td> B</td>\n",
       "      <td> 102512</td>\n",
       "    </tr>\n",
       "    <tr>\n",
       "      <th>12  </th>\n",
       "      <td> D</td>\n",
       "      <td> 102513</td>\n",
       "    </tr>\n",
       "    <tr>\n",
       "      <th>13  </th>\n",
       "      <td> D</td>\n",
       "      <td> 102514</td>\n",
       "    </tr>\n",
       "    <tr>\n",
       "      <th>14  </th>\n",
       "      <td> B</td>\n",
       "      <td> 102515</td>\n",
       "    </tr>\n",
       "    <tr>\n",
       "      <th>15  </th>\n",
       "      <td> D</td>\n",
       "      <td> 102516</td>\n",
       "    </tr>\n",
       "    <tr>\n",
       "      <th>16  </th>\n",
       "      <td> B</td>\n",
       "      <td> 102517</td>\n",
       "    </tr>\n",
       "    <tr>\n",
       "      <th>17  </th>\n",
       "      <td> A</td>\n",
       "      <td> 102518</td>\n",
       "    </tr>\n",
       "    <tr>\n",
       "      <th>18  </th>\n",
       "      <td> D</td>\n",
       "      <td> 102519</td>\n",
       "    </tr>\n",
       "    <tr>\n",
       "      <th>19  </th>\n",
       "      <td> A</td>\n",
       "      <td> 102520</td>\n",
       "    </tr>\n",
       "    <tr>\n",
       "      <th>20  </th>\n",
       "      <td> B</td>\n",
       "      <td> 102521</td>\n",
       "    </tr>\n",
       "    <tr>\n",
       "      <th>21  </th>\n",
       "      <td> B</td>\n",
       "      <td> 102522</td>\n",
       "    </tr>\n",
       "    <tr>\n",
       "      <th>22  </th>\n",
       "      <td> C</td>\n",
       "      <td> 102523</td>\n",
       "    </tr>\n",
       "    <tr>\n",
       "      <th>23  </th>\n",
       "      <td> B</td>\n",
       "      <td> 102524</td>\n",
       "    </tr>\n",
       "    <tr>\n",
       "      <th>24  </th>\n",
       "      <td> B</td>\n",
       "      <td> 102525</td>\n",
       "    </tr>\n",
       "    <tr>\n",
       "      <th>25  </th>\n",
       "      <td> B</td>\n",
       "      <td> 102526</td>\n",
       "    </tr>\n",
       "    <tr>\n",
       "      <th>26  </th>\n",
       "      <td> C</td>\n",
       "      <td> 102527</td>\n",
       "    </tr>\n",
       "    <tr>\n",
       "      <th>27  </th>\n",
       "      <td> C</td>\n",
       "      <td> 102528</td>\n",
       "    </tr>\n",
       "    <tr>\n",
       "      <th>28  </th>\n",
       "      <td> B</td>\n",
       "      <td> 102529</td>\n",
       "    </tr>\n",
       "    <tr>\n",
       "      <th>29  </th>\n",
       "      <td> D</td>\n",
       "      <td> 102530</td>\n",
       "    </tr>\n",
       "    <tr>\n",
       "      <th>...</th>\n",
       "      <td>...</td>\n",
       "      <td>...</td>\n",
       "    </tr>\n",
       "    <tr>\n",
       "      <th>8102</th>\n",
       "      <td> A</td>\n",
       "      <td> 110603</td>\n",
       "    </tr>\n",
       "    <tr>\n",
       "      <th>8103</th>\n",
       "      <td> C</td>\n",
       "      <td> 110604</td>\n",
       "    </tr>\n",
       "    <tr>\n",
       "      <th>8104</th>\n",
       "      <td> C</td>\n",
       "      <td> 110605</td>\n",
       "    </tr>\n",
       "    <tr>\n",
       "      <th>8105</th>\n",
       "      <td> D</td>\n",
       "      <td> 110606</td>\n",
       "    </tr>\n",
       "    <tr>\n",
       "      <th>8106</th>\n",
       "      <td> D</td>\n",
       "      <td> 110607</td>\n",
       "    </tr>\n",
       "    <tr>\n",
       "      <th>8107</th>\n",
       "      <td> D</td>\n",
       "      <td> 110608</td>\n",
       "    </tr>\n",
       "    <tr>\n",
       "      <th>8108</th>\n",
       "      <td> C</td>\n",
       "      <td> 110609</td>\n",
       "    </tr>\n",
       "    <tr>\n",
       "      <th>8109</th>\n",
       "      <td> B</td>\n",
       "      <td> 110610</td>\n",
       "    </tr>\n",
       "    <tr>\n",
       "      <th>8110</th>\n",
       "      <td> D</td>\n",
       "      <td> 110611</td>\n",
       "    </tr>\n",
       "    <tr>\n",
       "      <th>8111</th>\n",
       "      <td> C</td>\n",
       "      <td> 110612</td>\n",
       "    </tr>\n",
       "    <tr>\n",
       "      <th>8112</th>\n",
       "      <td> C</td>\n",
       "      <td> 110613</td>\n",
       "    </tr>\n",
       "    <tr>\n",
       "      <th>8113</th>\n",
       "      <td> A</td>\n",
       "      <td> 110614</td>\n",
       "    </tr>\n",
       "    <tr>\n",
       "      <th>8114</th>\n",
       "      <td> A</td>\n",
       "      <td> 110615</td>\n",
       "    </tr>\n",
       "    <tr>\n",
       "      <th>8115</th>\n",
       "      <td> A</td>\n",
       "      <td> 110616</td>\n",
       "    </tr>\n",
       "    <tr>\n",
       "      <th>8116</th>\n",
       "      <td> C</td>\n",
       "      <td> 110617</td>\n",
       "    </tr>\n",
       "    <tr>\n",
       "      <th>8117</th>\n",
       "      <td> D</td>\n",
       "      <td> 110618</td>\n",
       "    </tr>\n",
       "    <tr>\n",
       "      <th>8118</th>\n",
       "      <td> B</td>\n",
       "      <td> 110619</td>\n",
       "    </tr>\n",
       "    <tr>\n",
       "      <th>8119</th>\n",
       "      <td> D</td>\n",
       "      <td> 110620</td>\n",
       "    </tr>\n",
       "    <tr>\n",
       "      <th>8120</th>\n",
       "      <td> A</td>\n",
       "      <td> 110621</td>\n",
       "    </tr>\n",
       "    <tr>\n",
       "      <th>8121</th>\n",
       "      <td> A</td>\n",
       "      <td> 110622</td>\n",
       "    </tr>\n",
       "    <tr>\n",
       "      <th>8122</th>\n",
       "      <td> D</td>\n",
       "      <td> 110623</td>\n",
       "    </tr>\n",
       "    <tr>\n",
       "      <th>8123</th>\n",
       "      <td> A</td>\n",
       "      <td> 110624</td>\n",
       "    </tr>\n",
       "    <tr>\n",
       "      <th>8124</th>\n",
       "      <td> A</td>\n",
       "      <td> 110625</td>\n",
       "    </tr>\n",
       "    <tr>\n",
       "      <th>8125</th>\n",
       "      <td> B</td>\n",
       "      <td> 110626</td>\n",
       "    </tr>\n",
       "    <tr>\n",
       "      <th>8126</th>\n",
       "      <td> A</td>\n",
       "      <td> 110627</td>\n",
       "    </tr>\n",
       "    <tr>\n",
       "      <th>8127</th>\n",
       "      <td> A</td>\n",
       "      <td> 110628</td>\n",
       "    </tr>\n",
       "    <tr>\n",
       "      <th>8128</th>\n",
       "      <td> A</td>\n",
       "      <td> 110629</td>\n",
       "    </tr>\n",
       "    <tr>\n",
       "      <th>8129</th>\n",
       "      <td> B</td>\n",
       "      <td> 110630</td>\n",
       "    </tr>\n",
       "    <tr>\n",
       "      <th>8130</th>\n",
       "      <td> A</td>\n",
       "      <td> 110631</td>\n",
       "    </tr>\n",
       "    <tr>\n",
       "      <th>8131</th>\n",
       "      <td> A</td>\n",
       "      <td> 110632</td>\n",
       "    </tr>\n",
       "  </tbody>\n",
       "</table>\n",
       "<p>8132 rows × 2 columns</p>\n",
       "</div>"
      ],
      "text/plain": [
       "     correctAnswer      id\n",
       "0                C  102501\n",
       "1                B  102502\n",
       "2                B  102503\n",
       "3                B  102504\n",
       "4                A  102505\n",
       "5                A  102506\n",
       "6                C  102507\n",
       "7                A  102508\n",
       "8                B  102509\n",
       "9                C  102510\n",
       "10               A  102511\n",
       "11               B  102512\n",
       "12               D  102513\n",
       "13               D  102514\n",
       "14               B  102515\n",
       "15               D  102516\n",
       "16               B  102517\n",
       "17               A  102518\n",
       "18               D  102519\n",
       "19               A  102520\n",
       "20               B  102521\n",
       "21               B  102522\n",
       "22               C  102523\n",
       "23               B  102524\n",
       "24               B  102525\n",
       "25               B  102526\n",
       "26               C  102527\n",
       "27               C  102528\n",
       "28               B  102529\n",
       "29               D  102530\n",
       "...            ...     ...\n",
       "8102             A  110603\n",
       "8103             C  110604\n",
       "8104             C  110605\n",
       "8105             D  110606\n",
       "8106             D  110607\n",
       "8107             D  110608\n",
       "8108             C  110609\n",
       "8109             B  110610\n",
       "8110             D  110611\n",
       "8111             C  110612\n",
       "8112             C  110613\n",
       "8113             A  110614\n",
       "8114             A  110615\n",
       "8115             A  110616\n",
       "8116             C  110617\n",
       "8117             D  110618\n",
       "8118             B  110619\n",
       "8119             D  110620\n",
       "8120             A  110621\n",
       "8121             A  110622\n",
       "8122             D  110623\n",
       "8123             A  110624\n",
       "8124             A  110625\n",
       "8125             B  110626\n",
       "8126             A  110627\n",
       "8127             A  110628\n",
       "8128             A  110629\n",
       "8129             B  110630\n",
       "8130             A  110631\n",
       "8131             A  110632\n",
       "\n",
       "[8132 rows x 2 columns]"
      ]
     },
     "execution_count": 13,
     "metadata": {},
     "output_type": "execute_result"
    }
   ],
   "source": [
    "from evaluation import create_submission\n",
    "from dataset import numbers_to_letters\n",
    "preds = numbers_to_letters(hard_preds)\n",
    "create_submission(preds, '../submissions/1028.preds')"
   ]
  },
  {
   "cell_type": "code",
   "execution_count": 29,
   "metadata": {
    "collapsed": false
   },
   "outputs": [
    {
     "name": "stdout",
     "output_type": "stream",
     "text": [
      "(8132, 4)\n"
     ]
    }
   ],
   "source": [
    "# weights = numpy.array([0.39, 0.39, 0.38, 0.38, 0.16, 0.16])\n",
    "preds = weighted_averaging_predictions(preds, weights)\n",
    "print(preds.shape)"
   ]
  },
  {
   "cell_type": "code",
   "execution_count": 5,
   "metadata": {
    "collapsed": false
   },
   "outputs": [
    {
     "name": "stdout",
     "output_type": "stream",
     "text": [
      "Loaded datasets with 2500 X 7 in 0.015570883988402784 secs\n",
      "\n",
      "[2 2 3 1 1 1 0 0 3 2 3 3 0 2 1 1 2 0 1 1 2 2 2 3 0 1 3 3 1 1 1 1 1 0 0]\n",
      "[2 2 3 0 1 0 0 0 3 0 3 3 0 3 1 1 0 2 2 2 2 2 1 3 3 1 3 1 1 3 3 3 1 0 2]\n",
      "0.5232\n"
     ]
    }
   ],
   "source": [
    "from dataset import load_data_frame\n",
    "from dataset import get_answers\n",
    "\n",
    "correct_answers = get_answers(load_data_frame('../data/training_set.tsv'), numeric=True)\n",
    "\n",
    "print(correct_answers[:35])\n",
    "print(hard_preds[:35])\n",
    "print(hard_maj_preds[:35])\n",
    "print(hard_rank_preds[:35])\n",
    "#print(correct_answers.shape, hard_preds.shape, hard_maj_preds.shape)\n",
    "from evaluation import compute_accuracy\n",
    "\n",
    "train_acc_maj = compute_accuracy(correct_answers, hard_maj_preds)\n",
    "train_acc = compute_accuracy(correct_answers, hard_preds)\n",
    "train_rank = compute_accuracy(correct_answers, hard_rank_preds)\n",
    "\n",
    "# rint(train_acc_maj)\n",
    "print(train_acc)\n",
    "# print(train_rank)"
   ]
  },
  {
   "cell_type": "code",
   "execution_count": 1,
   "metadata": {
    "collapsed": false
   },
   "outputs": [
    {
     "name": "stdout",
     "output_type": "stream",
     "text": [
      "Loaded datasets with 2500 X 7 in 0.012561668001580983 secs\n",
      "\n",
      "[('When athletes begin to exercise, their heart rates and respiration rates increase.  At what level of organization does the human body coordinate these functions?', 'at the tissue level', 0), ('When athletes begin to exercise, their heart rates and respiration rates increase.  At what level of organization does the human body coordinate these functions?', 'at the organ level', 0), ('When athletes begin to exercise, their heart rates and respiration rates increase.  At what level of organization does the human body coordinate these functions?', 'at the system level', 1), ('When athletes begin to exercise, their heart rates and respiration rates increase.  At what level of organization does the human body coordinate these functions?', 'at the cellular level', 0), ('Which example describes a learned behavior in a dog?', 'smelling the air for odors', 0), ('Which example describes a learned behavior in a dog?', 'barking when disturbed', 0), ('Which example describes a learned behavior in a dog?', 'sitting on command', 1), ('Which example describes a learned behavior in a dog?', 'digging in soil', 0), ('When two nuclei are combined into one nucleus, there is a slight change in mass and the release of a large amount of energy. What is this process called?', 'conversion', 0), ('When two nuclei are combined into one nucleus, there is a slight change in mass and the release of a large amount of energy. What is this process called?', 'reaction', 0)]\n",
      "Loaded datasets with 2500 X 7 in 0.012561668001580983 secs\n",
      "\n",
      "[('When athletes begin to exercise, their heart rates and respiration rates increase.  At what level of organization does the human body coordinate these functions?', 'at the tissue level', 0), ('When athletes begin to exercise, their heart rates and respiration rates increase.  At what level of organization does the human body coordinate these functions?', 'at the organ level', 0), ('When athletes begin to exercise, their heart rates and respiration rates increase.  At what level of organization does the human body coordinate these functions?', 'at the system level', 1), ('When athletes begin to exercise, their heart rates and respiration rates increase.  At what level of organization does the human body coordinate these functions?', 'at the cellular level', 0), ('Which example describes a learned behavior in a dog?', 'smelling the air for odors', 0), ('Which example describes a learned behavior in a dog?', 'barking when disturbed', 0), ('Which example describes a learned behavior in a dog?', 'sitting on command', 1), ('Which example describes a learned behavior in a dog?', 'digging in soil', 0), ('When two nuclei are combined into one nucleus, there is a slight change in mass and the release of a large amount of energy. What is this process called?', 'conversion', 0), ('When two nuclei are combined into one nucleus, there is a slight change in mass and the release of a large amount of energy. What is this process called?', 'reaction', 0)]\n"
     ]
    }
   ],
   "source": [
    "from dataset import get_questions_plus_answers_labelled\n",
    "from dataset import load_data_frame\n",
    "\n",
    "train_frame = load_data_frame('../data/training_set.tsv')\n",
    "\n",
    "data_labelled = get_questions_plus_answers_labelled(train_frame)\n",
    "print(data_labelled[:10])"
   ]
  },
  {
   "cell_type": "code",
   "execution_count": 32,
   "metadata": {
    "collapsed": true
   },
   "outputs": [],
   "source": [
    "def binary_multiclass_answers(answers, n_answers):\n",
    "    multi_answers = numpy.zeros((len(answers), n_answers), dtype=int)\n",
    "    for i, ans in enumerate(answers):\n",
    "        multi_answers[i, ans] = 1\n",
    "    return multi_answers"
   ]
  },
  {
   "cell_type": "code",
   "execution_count": 39,
   "metadata": {
    "collapsed": false
   },
   "outputs": [
    {
     "name": "stdout",
     "output_type": "stream",
     "text": [
      "[[0 0 1 0]\n",
      " [0 0 1 0]\n",
      " [0 0 0 1]\n",
      " ..., \n",
      " [0 0 0 1]\n",
      " [0 1 0 0]\n",
      " [0 0 0 1]]\n",
      "[2 2 3 ..., 3 1 3]\n"
     ]
    }
   ],
   "source": [
    "corr_ans = binary_multiclass_answers(correct_answers, 4)\n",
    "print(binary_multiclass_answers(correct_answers, 4))\n",
    "print(correct_answers)"
   ]
  },
  {
   "cell_type": "code",
   "execution_count": 43,
   "metadata": {
    "collapsed": false
   },
   "outputs": [
    {
     "name": "stdout",
     "output_type": "stream",
     "text": [
      "[[ 0.26984291  0.28311731  0.3318312  ...,  0.25541419  0.25545294\n",
      "   0.26970789]\n",
      " [ 0.23627857  0.25815815  0.25918024 ...,  0.23708182  0.24295892\n",
      "   0.24471269]\n",
      " [ 0.23039757  0.21814126  0.17082751 ...,  0.23427038  0.23661992\n",
      "   0.24443285]\n",
      " ..., \n",
      " [ 0.26414213  0.23186892  0.22134378 ...,  0.25039838  0.24497923\n",
      "   0.24685077]\n",
      " [ 0.26652569  0.26753846  0.26799251 ...,  0.26089042  0.25615262\n",
      "   0.2628133 ]\n",
      " [ 0.28613309  0.26545343  0.24847887 ...,  0.28930598  0.28482992\n",
      "   0.27866105]]\n"
     ]
    }
   ],
   "source": [
    "def get_preds_by_ans(preds, ans):\n",
    "    return preds[:, ans, :]\n",
    "\n",
    "preds_0 = get_preds_by_ans(preds, 0)\n",
    "print(preds_0)"
   ]
  },
  {
   "cell_type": "code",
   "execution_count": 40,
   "metadata": {
    "collapsed": false
   },
   "outputs": [
    {
     "data": {
      "text/plain": [
       "LogisticRegression(C=1.0, class_weight=None, dual=False, fit_intercept=False,\n",
       "          intercept_scaling=1, max_iter=100, multi_class='ovr', n_jobs=1,\n",
       "          penalty='l2', random_state=None, solver='liblinear', tol=0.0001,\n",
       "          verbose=0, warm_start=False)"
      ]
     },
     "execution_count": 40,
     "metadata": {},
     "output_type": "execute_result"
    }
   ],
   "source": [
    "from sklearn.linear_model import LogisticRegression\n",
    "lr = LogisticRegression(fit_intercept=False)\n",
    "lr.fit(preds_0, corr_ans[:, 0])"
   ]
  },
  {
   "cell_type": "code",
   "execution_count": 41,
   "metadata": {
    "collapsed": false
   },
   "outputs": [
    {
     "name": "stdout",
     "output_type": "stream",
     "text": [
      "[[  7.16431700e-01  -8.84726461e-01   1.07273351e+00   6.51948325e-01\n",
      "    1.16975071e+00  -8.89198303e-01   6.55139598e-01  -7.31790801e-02\n",
      "   -7.42182218e-01  -1.13051457e+00  -8.26590176e-01  -8.41747443e-01\n",
      "    5.77912499e-01   6.26144494e-01  -7.73568534e-03  -7.51680369e-01\n",
      "   -1.74149128e-03   6.33648204e-01  -8.16086357e-01  -3.60266263e-04\n",
      "    9.01346068e-01  -6.79982995e-01  -7.72889522e-01  -1.10811706e+00\n",
      "   -6.47385927e-01  -1.12657267e+00  -6.42083437e-01   1.07559216e+00\n",
      "    9.84232913e-01   1.13577085e+00  -9.26089316e-01   4.35289879e-02\n",
      "   -6.93298343e-01   6.66602776e-02  -6.86749879e-01  -6.39768726e-01]]\n"
     ]
    }
   ],
   "source": [
    "print(lr.coef_)"
   ]
  },
  {
   "cell_type": "code",
   "execution_count": 45,
   "metadata": {
    "collapsed": false
   },
   "outputs": [
    {
     "name": "stdout",
     "output_type": "stream",
     "text": [
      "36\n"
     ]
    }
   ],
   "source": [
    "preds_0 = lr.predict(preds_0)\n",
    "print(sum(preds_0))"
   ]
  },
  {
   "cell_type": "code",
   "execution_count": 3,
   "metadata": {
    "collapsed": false
   },
   "outputs": [
    {
     "name": "stdout",
     "output_type": "stream",
     "text": [
      "(4, 3, 3)\n",
      "[2 2 0 1]\n"
     ]
    }
   ],
   "source": [
    "import numpy\n",
    "\n",
    "from ensemble import majority_vote\n",
    "\n",
    "preds = numpy.array([[[0.15, 0.3, 0.1], [0.45, 0.1, 0.1], [0.4, 0.6, 0.8]],\n",
    "                    [[0.2, 0.5, 0.1], [0.3, 0.2, 0.2], [0.5, 0.3, 0.7]],\n",
    "                    [[0.4, 0.2, 0.5], [0.3, 0.3, 0.1], [0.3, 0.5, 0.4]],\n",
    "                    [[0.1, 0.4, 0.1], [0.6, 0.5, 0.5], [0.3, 0.1, 0.4]]])\n",
    "print(preds.shape)\n",
    "maj_preds = majority_vote(preds)\n",
    "print(maj_preds)"
   ]
  },
  {
   "cell_type": "code",
   "execution_count": 1,
   "metadata": {
    "collapsed": false
   },
   "outputs": [
    {
     "name": "stdout",
     "output_type": "stream",
     "text": [
      "*** Processing dir: ../scores/fg\n",
      "Processing file: ../scores/fg/1002-1004-1017-1019-1022-1024/1024/1024_fg_std_dflt_merge_only_flashcards_top3_train.scores\n",
      "Processing file: ../scores/fg/1002-1004-1017-1019-1022-1024/1002/1002_fg_eng_dflt_merge.corpus-b_c_s_o_wtv10_top3_train.scores\n",
      "Processing file: ../scores/fg/1002-1004-1017-1019-1022-1024/1004/1004_fg_eng_dflt_merge.corpus_all_wv10_train.scores\n",
      "Processing file: ../scores/fg/1002-1004-1017-1019-1022-1024/1017/1017_fg_eng_dflt_merge_only_flashcards_top3_train.scores\n",
      "Processing file: ../scores/fg/1002-1004-1017-1019-1022-1024/1022/1022_fg_eng_dflt_merge_only_flashcards_top8_train.scores\n",
      "Processing file: ../scores/fg/1002-1004-1017-1019-1022-1024/1019/1019_fg_eng_dflt_merge_only_flashcards_top5_train.scores\n",
      "Processing file: ../scores/fg/060-062-067-070-071-072-074-075/062/062_fg_eng_dflt_concepts+ext-studystack+openstax_train.scores\n",
      "Processing file: ../scores/fg/060-062-067-070-071-072-074-075/071/071_fg_std_dflt_merge.corpus.txt (b,cp,ss,os)+wiki_train.scores\n",
      "Processing file: ../scores/fg/060-062-067-070-071-072-074-075/074/074_fg_eng_dflt_merge_corpus_all_top3_train.scores\n",
      "Processing file: ../scores/fg/060-062-067-070-071-072-074-075/067/067_fg_eng_bm25_concepts+ext-studystack+openstax_train.scores\n",
      "Processing file: ../scores/fg/060-062-067-070-071-072-074-075/075/075_fg_eng_dflt_merge.corpus_all_train.scores\n",
      "Processing file: ../scores/fg/060-062-067-070-071-072-074-075/070/070_fg_eng_dflt_merge.corpus.txt (b,cp,ss,os)_train.scores\n",
      "Processing file: ../scores/fg/060-062-067-070-071-072-074-075/072/072_fg_std_bm25_merge.corpus.txt (b,cp,ss,os)+wiki_train.scores\n",
      "Processing file: ../scores/fg/060-062-067-070-071-072-074-075/060/060_fg_eng_dflt_concepts+ext-studystack+openstax_train.scores\n",
      "*** Processing dir: ../scores/word2vec/\n",
      "Processing file: ../scores/word2vec/066/066_w2v_concepts+ext_studystack_train.scores.preds\n",
      "Processing file: ../scores/word2vec/1009/1009_w2v_concepts+ext-studystack+quizlet_train.scores\n",
      "Processing file: ../scores/word2vec/1011/1011_w2v_concepts+ext-studystack+cramberry_train.scores\n",
      "Processing file: ../scores/word2vec/051/051_w2v_concepts+studystack_train.scores\n",
      "Processing file: ../scores/word2vec/065/065_w2v_concepts+studystack_train.scores.preds\n",
      "Processing file: ../scores/word2vec/1007/1007_w2v_concepts+ext-studystack+quizlet_train.scores\n",
      "*** Processing dir: ../merge-all-grid-scores/\n",
      "Processing file: ../merge-all-grid-scores/std-anal/lmdi-sim/6-10/gg_merge__StandardAnalyzer_LMDirichletSimilarity_10_tf_train.scores\n",
      "Processing file: ../merge-all-grid-scores/std-anal/lmdi-sim/6-10/gg_merge__StandardAnalyzer_LMDirichletSimilarity_6_tf_train.scores\n",
      "Processing file: ../merge-all-grid-scores/std-anal/lmdi-sim/6-10/gg_merge__StandardAnalyzer_LMDirichletSimilarity_7_tf_train.scores\n",
      "Processing file: ../merge-all-grid-scores/std-anal/lmdi-sim/6-10/gg_merge__StandardAnalyzer_LMDirichletSimilarity_8_tf_train.scores\n",
      "Processing file: ../merge-all-grid-scores/std-anal/lmdi-sim/6-10/gg_merge__StandardAnalyzer_LMDirichletSimilarity_9_tf_train.scores\n",
      "Processing file: ../merge-all-grid-scores/std-anal/lmdi-sim/1-5/1/gg_merge__StandardAnalyzer_LMDirichletSimilarity_1_tf_train.scores\n",
      "Processing file: ../merge-all-grid-scores/std-anal/lmdi-sim/1-5/2-5/gg_merge__StandardAnalyzer_LMDirichletSimilarity_2_tf_train.scores\n",
      "Processing file: ../merge-all-grid-scores/std-anal/lmdi-sim/1-5/2-5/gg_merge__StandardAnalyzer_LMDirichletSimilarity_3_tf_train.scores\n",
      "Processing file: ../merge-all-grid-scores/std-anal/lmdi-sim/1-5/2-5/gg_merge__StandardAnalyzer_LMDirichletSimilarity_4_tf_train.scores\n",
      "Processing file: ../merge-all-grid-scores/std-anal/lmdi-sim/1-5/2-5/gg_merge__StandardAnalyzer_LMDirichletSimilarity_5_tf_train.scores\n",
      "Processing file: ../merge-all-grid-scores/std-anal/dflt-sim/6-10/gg_merge__StandardAnalyzer_DefaultSimilarity_10_tf_train.scores\n",
      "Processing file: ../merge-all-grid-scores/std-anal/dflt-sim/6-10/gg_merge__StandardAnalyzer_DefaultSimilarity_6_tf_train.scores\n",
      "Processing file: ../merge-all-grid-scores/std-anal/dflt-sim/6-10/gg_merge__StandardAnalyzer_DefaultSimilarity_7_tf_train.scores\n",
      "Processing file: ../merge-all-grid-scores/std-anal/dflt-sim/6-10/gg_merge__StandardAnalyzer_DefaultSimilarity_8_tf_train.scores\n",
      "Processing file: ../merge-all-grid-scores/std-anal/dflt-sim/6-10/gg_merge__StandardAnalyzer_DefaultSimilarity_9_tf_train.scores\n",
      "Processing file: ../merge-all-grid-scores/std-anal/dflt-sim/1-5/1/gg_merge__StandardAnalyzer_DefaultSimilarity_1_tf_train.scores\n",
      "Processing file: ../merge-all-grid-scores/std-anal/dflt-sim/1-5/2-5/gg_merge__StandardAnalyzer_DefaultSimilarity_2_tf_train.scores\n",
      "Processing file: ../merge-all-grid-scores/std-anal/dflt-sim/1-5/2-5/gg_merge__StandardAnalyzer_DefaultSimilarity_3_tf_train.scores\n",
      "Processing file: ../merge-all-grid-scores/std-anal/dflt-sim/1-5/2-5/gg_merge__StandardAnalyzer_DefaultSimilarity_4_tf_train.scores\n",
      "Processing file: ../merge-all-grid-scores/std-anal/dflt-sim/1-5/2-5/gg_merge__StandardAnalyzer_DefaultSimilarity_5_tf_train.scores\n",
      "Processing file: ../merge-all-grid-scores/std-anal/bm25-sim/6-10/gg_merge__StandardAnalyzer_BM25Similarity_10_tf_train.scores\n",
      "Processing file: ../merge-all-grid-scores/std-anal/bm25-sim/6-10/gg_merge__StandardAnalyzer_BM25Similarity_6_tf_train.scores\n",
      "Processing file: ../merge-all-grid-scores/std-anal/bm25-sim/6-10/gg_merge__StandardAnalyzer_BM25Similarity_7_tf_train.scores\n",
      "Processing file: ../merge-all-grid-scores/std-anal/bm25-sim/6-10/gg_merge__StandardAnalyzer_BM25Similarity_8_tf_train.scores\n",
      "Processing file: ../merge-all-grid-scores/std-anal/bm25-sim/6-10/gg_merge__StandardAnalyzer_BM25Similarity_9_tf_train.scores\n",
      "Processing file: ../merge-all-grid-scores/std-anal/bm25-sim/1-5/1/gg_merge__StandardAnalyzer_BM25Similarity_1_tf_train.scores\n",
      "Processing file: ../merge-all-grid-scores/std-anal/bm25-sim/1-5/2-5/gg_merge__StandardAnalyzer_BM25Similarity_2_tf_train.scores\n",
      "Processing file: ../merge-all-grid-scores/std-anal/bm25-sim/1-5/2-5/gg_merge__StandardAnalyzer_BM25Similarity_3_tf_train.scores\n",
      "Processing file: ../merge-all-grid-scores/std-anal/bm25-sim/1-5/2-5/gg_merge__StandardAnalyzer_BM25Similarity_4_tf_train.scores\n",
      "Processing file: ../merge-all-grid-scores/std-anal/bm25-sim/1-5/2-5/gg_merge__StandardAnalyzer_BM25Similarity_5_tf_train.scores\n",
      "Processing file: ../merge-all-grid-scores/eng-anal/lmdi-sim/6-10/gg_merge__EnglishAnalyzer_LMDirichletSimilarity_10_tf_train.scores\n",
      "Processing file: ../merge-all-grid-scores/eng-anal/lmdi-sim/6-10/gg_merge__EnglishAnalyzer_LMDirichletSimilarity_6_tf_train.scores\n",
      "Processing file: ../merge-all-grid-scores/eng-anal/lmdi-sim/6-10/gg_merge__EnglishAnalyzer_LMDirichletSimilarity_7_tf_train.scores\n",
      "Processing file: ../merge-all-grid-scores/eng-anal/lmdi-sim/6-10/gg_merge__EnglishAnalyzer_LMDirichletSimilarity_8_tf_train.scores\n",
      "Processing file: ../merge-all-grid-scores/eng-anal/lmdi-sim/6-10/gg_merge__EnglishAnalyzer_LMDirichletSimilarity_9_tf_train.scores\n",
      "Processing file: ../merge-all-grid-scores/eng-anal/lmdi-sim/1-5/1/gg_merge__EnglishAnalyzer_LMDirichletSimilarity_1_tf_train.scores\n",
      "Processing file: ../merge-all-grid-scores/eng-anal/lmdi-sim/1-5/2-5/gg_merge__EnglishAnalyzer_LMDirichletSimilarity_2_tf_train.scores\n",
      "Processing file: ../merge-all-grid-scores/eng-anal/lmdi-sim/1-5/2-5/gg_merge__EnglishAnalyzer_LMDirichletSimilarity_3_tf_train.scores\n",
      "Processing file: ../merge-all-grid-scores/eng-anal/lmdi-sim/1-5/2-5/gg_merge__EnglishAnalyzer_LMDirichletSimilarity_4_tf_train.scores\n",
      "Processing file: ../merge-all-grid-scores/eng-anal/lmdi-sim/1-5/2-5/gg_merge__EnglishAnalyzer_LMDirichletSimilarity_5_tf_train.scores\n",
      "Processing file: ../merge-all-grid-scores/eng-anal/dflt-sim/6-10/gg_merge__EnglishAnalyzer_DefaultSimilarity_10_tf_train.scores\n",
      "Processing file: ../merge-all-grid-scores/eng-anal/dflt-sim/6-10/gg_merge__EnglishAnalyzer_DefaultSimilarity_6_tf_train.scores\n",
      "Processing file: ../merge-all-grid-scores/eng-anal/dflt-sim/6-10/gg_merge__EnglishAnalyzer_DefaultSimilarity_7_tf_train.scores\n",
      "Processing file: ../merge-all-grid-scores/eng-anal/dflt-sim/6-10/gg_merge__EnglishAnalyzer_DefaultSimilarity_8_tf_train.scores\n",
      "Processing file: ../merge-all-grid-scores/eng-anal/dflt-sim/6-10/gg_merge__EnglishAnalyzer_DefaultSimilarity_9_tf_train.scores\n",
      "Processing file: ../merge-all-grid-scores/eng-anal/dflt-sim/1-5/1/gg_merge__EnglishAnalyzer_DefaultSimilarity_1_tf_train.scores\n",
      "Processing file: ../merge-all-grid-scores/eng-anal/dflt-sim/1-5/2-5/gg_merge__EnglishAnalyzer_DefaultSimilarity_2_tf_train.scores\n",
      "Processing file: ../merge-all-grid-scores/eng-anal/dflt-sim/1-5/2-5/gg_merge__EnglishAnalyzer_DefaultSimilarity_3_tf_train.scores\n",
      "Processing file: ../merge-all-grid-scores/eng-anal/dflt-sim/1-5/2-5/gg_merge__EnglishAnalyzer_DefaultSimilarity_4_tf_train.scores\n",
      "Processing file: ../merge-all-grid-scores/eng-anal/dflt-sim/1-5/2-5/gg_merge__EnglishAnalyzer_DefaultSimilarity_5_tf_train.scores\n",
      "Processing file: ../merge-all-grid-scores/eng-anal/bm25-sim/6-10/gg_merge__EnglishAnalyzer_BM25Similarity_10_tf_train.scores\n",
      "Processing file: ../merge-all-grid-scores/eng-anal/bm25-sim/6-10/gg_merge__EnglishAnalyzer_BM25Similarity_6_tf_train.scores\n",
      "Processing file: ../merge-all-grid-scores/eng-anal/bm25-sim/6-10/gg_merge__EnglishAnalyzer_BM25Similarity_7_tf_train.scores\n",
      "Processing file: ../merge-all-grid-scores/eng-anal/bm25-sim/6-10/gg_merge__EnglishAnalyzer_BM25Similarity_8_tf_train.scores\n",
      "Processing file: ../merge-all-grid-scores/eng-anal/bm25-sim/6-10/gg_merge__EnglishAnalyzer_BM25Similarity_9_tf_train.scores\n",
      "Processing file: ../merge-all-grid-scores/eng-anal/bm25-sim/1-5/1/gg_merge__EnglishAnalyzer_BM25Similarity_1_tf_train.scores\n",
      "Processing file: ../merge-all-grid-scores/eng-anal/bm25-sim/1-5/2-5/gg_merge__EnglishAnalyzer_BM25Similarity_2_tf_train.scores\n",
      "Processing file: ../merge-all-grid-scores/eng-anal/bm25-sim/1-5/2-5/gg_merge__EnglishAnalyzer_BM25Similarity_3_tf_train.scores\n",
      "Processing file: ../merge-all-grid-scores/eng-anal/bm25-sim/1-5/2-5/gg_merge__EnglishAnalyzer_BM25Similarity_4_tf_train.scores\n",
      "Processing file: ../merge-all-grid-scores/eng-anal/bm25-sim/1-5/2-5/gg_merge__EnglishAnalyzer_BM25Similarity_5_tf_train.scores\n",
      "Loaded datasets with 2500 X 7 in 0.01758737199997995 secs\n",
      "\n",
      "Considering all predictions: acc 0.5384\n",
      "Found an improvement by removing 18 [acc:0.54]\n",
      "Found an improvement by removing 9 [acc:0.5404]\n",
      "Found an improvement by removing 55 [acc:0.5416]\n",
      "Found an improvement by removing 20 [acc:0.542]\n",
      "Found an improvement by removing 56 [acc:0.5428]\n",
      "Found an improvement by removing 14 [acc:0.5436]\n",
      "Found an improvement by removing 3 [acc:0.544]\n",
      "Found an improvement by removing 21 [acc:0.544]\n",
      "Found an improvement by removing 68 [acc:0.5444]\n",
      "Found an improvement by removing 79 [acc:0.5448]\n",
      "Found an improvement by removing 75 [acc:0.5448]\n",
      "Found an improvement by removing 70 [acc:0.5448]\n",
      "Found an improvement by removing 10 [acc:0.5444]\n",
      "Found an improvement by removing 23 [acc:0.5448]\n",
      "Found an improvement by removing 30 [acc:0.546]\n",
      "Found an improvement by removing 24 [acc:0.5468]\n",
      "Found an improvement by removing 33 [acc:0.5472]\n",
      "Found an improvement by removing 40 [acc:0.5476]\n",
      "Found an improvement by removing 71 [acc:0.5476]\n",
      "Found an improvement by removing 34 [acc:0.5468]\n",
      "Found an improvement by removing 15 [acc:0.5472]\n",
      "Found an improvement by removing 2 [acc:0.5464]\n",
      "Found an improvement by removing 25 [acc:0.548]\n",
      "Found an improvement by removing 41 [acc:0.5476]\n",
      "Found an improvement by removing 62 [acc:0.5488]\n",
      "Found an improvement by removing 77 [acc:0.548]\n",
      "Found an improvement by removing 36 [acc:0.5476]\n",
      "Found an improvement by removing 5 [acc:0.5476]\n",
      "Found an improvement by removing 50 [acc:0.5476]\n",
      "Found an improvement by removing 76 [acc:0.548]\n",
      "Found an improvement by removing 22 [acc:0.5476]\n",
      "Found an improvement by removing 32 [acc:0.5484]\n",
      "Found an improvement by removing 29 [acc:0.548]\n",
      "Found an improvement by removing 1 [acc:0.5488]\n",
      "Found an improvement by removing 59 [acc:0.5492]\n",
      "Found an improvement by removing 63 [acc:0.5496]\n",
      "Found an improvement by removing 7 [acc:0.5492]\n",
      "Found an improvement by removing 44 [acc:0.5508]\n",
      "Found an improvement by removing 45 [acc:0.55]\n",
      "Found an improvement by removing 57 [acc:0.5496]\n",
      "Found an improvement by removing 60 [acc:0.5488]\n",
      "Found an improvement by removing 69 [acc:0.5496]\n",
      "Found an improvement by removing 47 [acc:0.5492]\n",
      "Found an improvement by removing 61 [acc:0.5492]\n",
      "Found an improvement by removing 49 [acc:0.548]\n",
      "Found an improvement by removing 17 [acc:0.5476]\n",
      "Found an improvement by removing 11 [acc:0.5472]\n",
      "Found an improvement by removing 72 [acc:0.5488]\n",
      "Found an improvement by removing 46 [acc:0.5484]\n",
      "Found an improvement by removing 52 [acc:0.5464]\n",
      "Found an improvement by removing 4 [acc:0.5472]\n",
      "Found an improvement by removing 0 [acc:0.5476]\n",
      "Found an improvement by removing 28 [acc:0.5476]\n",
      "Found an improvement by removing 66 [acc:0.5476]\n",
      "Found an improvement by removing 78 [acc:0.548]\n",
      "Found an improvement by removing 39 [acc:0.5472]\n",
      "Found an improvement by removing 53 [acc:0.5476]\n",
      "Found an improvement by removing 35 [acc:0.5476]\n",
      "Found an improvement by removing 51 [acc:0.5476]\n",
      "Found an improvement by removing 58 [acc:0.5476]\n",
      "Found an improvement by removing 64 [acc:0.5476]\n",
      "Found an improvement by removing 37 [acc:0.5472]\n",
      "Found an improvement by removing 73 [acc:0.5492]\n",
      "Found an improvement by removing 27 [acc:0.548]\n",
      "Found an improvement by removing 31 [acc:0.5448]\n",
      "Found an improvement by removing 16 [acc:0.5468]\n",
      "Found an improvement by removing 65 [acc:0.5468]\n",
      "Found an improvement by removing 43 [acc:0.5456]\n",
      "Found an improvement by removing 42 [acc:0.5452]\n",
      "Found an improvement by removing 13 [acc:0.5432]\n",
      "Found an improvement by removing 54 [acc:0.5444]\n",
      "Found an improvement by removing 6 [acc:0.5424]\n",
      "Found an improvement by removing 19 [acc:0.5416]\n",
      "Found an improvement by removing 38 [acc:0.5404]\n",
      "Found an improvement by removing 74 [acc:0.5396]\n",
      "Found an improvement by removing 26 [acc:0.5384]\n",
      "Found an improvement by removing 67 [acc:0.5352]\n",
      "No more improvements:0.5352\n",
      "[2 2 3 1 1 1 0 0 3 2 3 3 0 2 1 1 2 0 1 1 2 2 2 3 0 1 3 3 1 1 1 1 1 0 0]\n",
      "[1 2 3 3 1 0 0 0 3 0 3 3 0 3 1 1 0 0 3 2 3 2 2 3 3 3 3 2 1 3 3 1 1 0 2]\n",
      "[ True False False False  True False  True False  True False False  True\n",
      "  True  True False False  True  True False  True False False False False\n",
      " False False  True  True  True False False  True False False False  True\n",
      " False  True  True  True False False  True  True False  True  True  True\n",
      "  True  True False  True  True  True  True False False  True  True False\n",
      "  True  True False False  True  True  True  True False  True False False\n",
      "  True  True  True False False False  True False]\n",
      "0.5508\n"
     ]
    }
   ],
   "source": [
    "from ensemble import backward_greedy_ensemble_search\n",
    "from ensemble import collect_predictions_from_dirs\n",
    "\n",
    "from dataset import load_data_frame\n",
    "from dataset import get_answers\n",
    "\n",
    "from evaluation import compute_accuracy\n",
    "\n",
    "from ensemble import majority_vote, hard_averaging_predictions\n",
    "\n",
    "dirs = ['../scores/fg',\n",
    "        '../scores/word2vec/',\n",
    "        '../merge-all-grid-scores/'\n",
    "       #'../models/word2vec/exp_2015-12-09_06-59-30/',\n",
    "       #'../models/word2vec/exp_2015-12-09_09-32-45/',\n",
    "       #'../models/word2vec/exp_2015-12-09_11-02-01/'\n",
    "       ]\n",
    "preds = collect_predictions_from_dirs(dirs,\n",
    "                                    'train.scores')\n",
    "\n",
    "correct_answers = get_answers(load_data_frame('../data/training_set.tsv'), numeric=True)\n",
    "\n",
    "best_preds, best_score, ids = backward_greedy_ensemble_search(preds,\n",
    "                                    correct_answers,\n",
    "                                    combine_rule=hard_averaging_predictions,\n",
    "                                    metric=compute_accuracy,\n",
    "                                            epsilon=0.005)\n",
    "\n",
    "print(correct_answers[:35])\n",
    "print(best_preds[:35])\n",
    "print(ids)\n",
    "print(best_score)"
   ]
  },
  {
   "cell_type": "code",
   "execution_count": 2,
   "metadata": {
    "collapsed": false
   },
   "outputs": [
    {
     "name": "stdout",
     "output_type": "stream",
     "text": [
      "*** Processing dir: ../scores/fg\n",
      "Processing file: ../scores/fg/1002-1004-1017-1019-1022-1024/1024/1024_fg_std_dflt_merge_only_flashcards_top3_train.scores\n",
      "Processing file: ../scores/fg/1002-1004-1017-1019-1022-1024/1002/1002_fg_eng_dflt_merge.corpus-b_c_s_o_wtv10_top3_train.scores\n",
      "Processing file: ../scores/fg/1002-1004-1017-1019-1022-1024/1004/1004_fg_eng_dflt_merge.corpus_all_wv10_train.scores\n",
      "Processing file: ../scores/fg/1002-1004-1017-1019-1022-1024/1017/1017_fg_eng_dflt_merge_only_flashcards_top3_train.scores\n",
      "Processing file: ../scores/fg/1002-1004-1017-1019-1022-1024/1022/1022_fg_eng_dflt_merge_only_flashcards_top8_train.scores\n",
      "Processing file: ../scores/fg/1002-1004-1017-1019-1022-1024/1019/1019_fg_eng_dflt_merge_only_flashcards_top5_train.scores\n",
      "Processing file: ../scores/fg/060-062-067-070-071-072-074-075/062/062_fg_eng_dflt_concepts+ext-studystack+openstax_train.scores\n",
      "Processing file: ../scores/fg/060-062-067-070-071-072-074-075/071/071_fg_std_dflt_merge.corpus.txt (b,cp,ss,os)+wiki_train.scores\n",
      "Processing file: ../scores/fg/060-062-067-070-071-072-074-075/074/074_fg_eng_dflt_merge_corpus_all_top3_train.scores\n",
      "Processing file: ../scores/fg/060-062-067-070-071-072-074-075/067/067_fg_eng_bm25_concepts+ext-studystack+openstax_train.scores\n",
      "Processing file: ../scores/fg/060-062-067-070-071-072-074-075/075/075_fg_eng_dflt_merge.corpus_all_train.scores\n",
      "Processing file: ../scores/fg/060-062-067-070-071-072-074-075/070/070_fg_eng_dflt_merge.corpus.txt (b,cp,ss,os)_train.scores\n",
      "Processing file: ../scores/fg/060-062-067-070-071-072-074-075/072/072_fg_std_bm25_merge.corpus.txt (b,cp,ss,os)+wiki_train.scores\n",
      "Processing file: ../scores/fg/060-062-067-070-071-072-074-075/060/060_fg_eng_dflt_concepts+ext-studystack+openstax_train.scores\n",
      "*** Processing dir: ../scores/word2vec/\n",
      "Processing file: ../scores/word2vec/066/066_w2v_concepts+ext_studystack_train.scores.preds\n",
      "Processing file: ../scores/word2vec/1009/1009_w2v_concepts+ext-studystack+quizlet_train.scores\n",
      "Processing file: ../scores/word2vec/1011/1011_w2v_concepts+ext-studystack+cramberry_train.scores\n",
      "Processing file: ../scores/word2vec/051/051_w2v_concepts+studystack_train.scores\n",
      "Processing file: ../scores/word2vec/065/065_w2v_concepts+studystack_train.scores.preds\n",
      "Processing file: ../scores/word2vec/1007/1007_w2v_concepts+ext-studystack+quizlet_train.scores\n",
      "Loaded datasets with 2500 X 7 in 0.02260760399803985 secs\n",
      "\n",
      "Considering all predictions: acc 0.5271111111111111\n",
      "No more improvements:0.5337777777777778\n",
      "1/10 train: 0.5337777777777778 valid: 0.544\n",
      "[False  True False  True False  True False  True  True False  True False\n",
      "  True  True False  True  True False False False]\n",
      "Considering all predictions: acc 0.5208888888888888\n",
      "No more improvements:0.5244444444444445\n",
      "2/10 train: 0.5257777777777778 valid: 0.608\n",
      "[False  True  True  True  True  True False  True False False  True  True\n",
      "  True  True False False  True False  True  True]\n",
      "Considering all predictions: acc 0.5297777777777778\n",
      "No more improvements:0.536\n",
      "3/10 train: 0.536 valid: 0.496\n",
      "[ True  True  True  True  True  True  True  True False False  True False\n",
      "  True  True False  True  True False False  True]\n",
      "Considering all predictions: acc 0.5297777777777778\n",
      "No more improvements:0.5391111111111111\n",
      "4/10 train: 0.5391111111111111 valid: 0.508\n",
      "[False  True  True  True  True  True  True  True  True False  True False\n",
      " False False  True False  True False False  True]\n",
      "Considering all predictions: acc 0.5297777777777778\n",
      "No more improvements:0.5324444444444445\n",
      "5/10 train: 0.5324444444444445 valid: 0.516\n",
      "[ True  True  True  True  True  True  True  True  True  True  True  True\n",
      "  True  True  True  True  True False  True  True]\n",
      "Considering all predictions: acc 0.5235555555555556\n",
      "No more improvements:0.5262222222222223\n",
      "6/10 train: 0.5262222222222223 valid: 0.572\n",
      "[ True  True  True  True  True  True  True  True  True  True  True  True\n",
      "  True  True  True  True  True False  True  True]\n",
      "Considering all predictions: acc 0.5297777777777778\n",
      "No more improvements:0.5328888888888889\n",
      "7/10 train: 0.5328888888888889 valid: 0.512\n",
      "[ True  True  True  True  True  True  True  True  True  True  True  True\n",
      "  True  True  True  True  True False  True  True]\n",
      "Considering all predictions: acc 0.5306666666666666\n",
      "No more improvements:0.5382222222222223\n",
      "8/10 train: 0.5382222222222223 valid: 0.496\n",
      "[False  True  True  True  True  True False  True False False  True  True\n",
      "  True  True False False  True False  True  True]\n",
      "Considering all predictions: acc 0.5293333333333333\n",
      "No more improvements:0.5382222222222223\n",
      "9/10 train: 0.5382222222222223 valid: 0.508\n",
      "[False False  True  True  True  True  True  True False False  True False\n",
      "  True  True False  True  True False  True False]\n",
      "Considering all predictions: acc 0.5293333333333333\n",
      "No more improvements:0.5328888888888889\n",
      "10/10 train: 0.5328888888888889 valid: 0.512\n",
      "[ True  True  True  True  True  True  True  True  True  True  True  True\n",
      "  True  True  True  True  True False  True  True]\n",
      "0.5272\n",
      "Intersection 5\n",
      "[False False False  True False  True False  True False False  True False\n",
      " False False False False  True False False False]\n",
      "[ 5  9  9 10  9 10  7 10  6  4 10  6  9  9  5  7 10  0  7  8]\n",
      "0 1 0.4208\n",
      "1 1 0.4208\n",
      "2 1 0.4208\n",
      "3 1 0.4208\n",
      "4 2 0.4756\n",
      "5 4 0.5012\n",
      "6 6 0.5152\n",
      "7 9 0.5108\n",
      "8 10 0.5072\n",
      "9 15 0.5192\n",
      "10 20 0.528\n",
      "0 0.5348\n",
      "1 0.534\n",
      "2 0.532\n",
      "3 0.536\n",
      "4 0.5308\n",
      "5 0.5308\n",
      "6 0.5308\n",
      "7 0.534\n",
      "8 0.5352\n",
      "9 0.5308\n",
      "Ens 0.53\n"
     ]
    }
   ],
   "source": [
    "from ensemble import backward_greedy_ensemble_search_cv\n",
    "from ensemble import collect_predictions_from_dirs\n",
    "\n",
    "from dataset import load_data_frame\n",
    "from dataset import get_answers\n",
    "\n",
    "from evaluation import compute_accuracy\n",
    "\n",
    "from ensemble import majority_vote, hard_averaging_predictions\n",
    "\n",
    "dirs = ['../scores/fg',\n",
    "        '../scores/word2vec/',\n",
    "       # '../merge-all-grid-scores/'\n",
    "       #'../models/word2vec/exp_2015-12-09_06-59-30/',\n",
    "       #'../models/word2vec/exp_2015-12-09_09-32-45/',\n",
    "       #'../models/word2vec/exp_2015-12-09_11-02-01/'\n",
    "       ]\n",
    "preds = collect_predictions_from_dirs(dirs,\n",
    "                                    'train.scores')\n",
    "\n",
    "correct_answers = get_answers(load_data_frame('../data/training_set.tsv'), numeric=True)\n",
    "\n",
    "cv_score, best_score = backward_greedy_ensemble_search_cv(preds,\n",
    "                                    correct_answers,\n",
    "                                    n_folds=10,\n",
    "                                    combine_rule=hard_averaging_predictions,\n",
    "                                    metric=compute_accuracy,\n",
    "                                            epsilon=0.005)\n",
    "\n",
    "# print(correct_answers[:35])\n",
    "# print(best_preds[:35])\n",
    "# print(ids)\n",
    "# print(best_score)"
   ]
  },
  {
   "cell_type": "code",
   "execution_count": 9,
   "metadata": {
    "collapsed": false
   },
   "outputs": [
    {
     "name": "stdout",
     "output_type": "stream",
     "text": [
      "*** Processing dir: ../scores/\n",
      "Processing file: ../scores/066/train.scores.preds\n",
      "Processing file: ../scores/062/062_fg_train.scores\n",
      "Processing file: ../scores/071/071_fg_train.scores\n",
      "Processing file: ../scores/074/074_fg_train.scores\n",
      "Processing file: ../scores/1024/1024_fg_train.scores\n",
      "Processing file: ../scores/1002/1002_fg_train.scores\n",
      "Processing file: ../scores/067/067_fg_train.scores\n",
      "Processing file: ../scores/1009/train.scores\n",
      "Processing file: ../scores/1004/1004_fg_train.scores\n",
      "Processing file: ../scores/1017/1017_fg_train.scores\n",
      "Processing file: ../scores/1011/train.scores\n",
      "Processing file: ../scores/075/075_fg_train.scores\n",
      "Processing file: ../scores/070/070_fg_train.scores\n",
      "Processing file: ../scores/072/072_fg_train.scores\n",
      "Processing file: ../scores/051/051_train.scores\n",
      "Processing file: ../scores/1022/1022_fg_train.scores\n",
      "Processing file: ../scores/1019/1019_fg_train.scores\n",
      "Processing file: ../scores/065/train.scores.preds\n",
      "Processing file: ../scores/060/060_fg_train.scores\n",
      "Processing file: ../scores/1007/train.scores\n",
      "Loaded datasets with 2500 X 7 in 0.017759365000529215 secs\n",
      "\n",
      "Computing pairwise metrics\n",
      "First pair 2 10\n",
      "iterate\n",
      "Found 9 with score: 0.31761548283934493\n",
      "iterate\n",
      "0.862961214565\n",
      "0.916275392092\n",
      "Found 4 with score: 0.32441815540488694\n",
      "iterate\n",
      "0.862961214565\n",
      "0.916275392092\n",
      "Found 13 with score: 0.30807907425073383\n",
      "iterate\n",
      "0.862961214565\n",
      "0.916275392092\n",
      "Found 1 with score: 0.3389038067780274\n",
      "iterate\n",
      "0.862961214565\n",
      "0.916275392092\n",
      "0.825490272409\n",
      "Found 7 with score: 0.3426689279778062\n",
      "iterate\n",
      "0.862961214565\n",
      "0.916275392092\n",
      "0.825490272409\n",
      "0.98642631961\n",
      "Found 14 with score: 0.36551203571507035\n",
      "iterate\n",
      "0.862961214565\n",
      "0.916275392092\n",
      "0.755775907428\n",
      "0.825490272409\n",
      "0.98642631961\n",
      "Found 11 with score: 0.35263065182390946\n",
      "iterate\n",
      "0.921432498993\n",
      "0.759180117459\n",
      "0.862961214565\n",
      "0.916275392092\n",
      "0.755775907428\n",
      "0.825490272409\n",
      "0.98642631961\n",
      "Found 8 with score: 0.35708219886405757\n",
      "iterate\n",
      "0.921432498993\n",
      "0.893587086713\n",
      "0.759180117459\n",
      "0.862961214565\n",
      "0.916275392092\n",
      "0.755775907428\n",
      "0.825490272409\n",
      "0.98642631961\n",
      "Found 6 with score: 0.38477288024499995\n",
      "iterate\n",
      "0.921432498993\n",
      "0.893587086713\n",
      "0.759180117459\n",
      "0.862961214565\n",
      "0.916275392092\n",
      "0.755775907428\n",
      "0.825490272409\n",
      "0.98642631961\n",
      "Found 0 with score: 0.6958950058480214\n",
      "iterate\n",
      "0.921432498993\n",
      "0.893587086713\n",
      "0.759180117459\n",
      "0.862961214565\n",
      "0.916275392092\n",
      "0.755775907428\n",
      "0.825490272409\n",
      "0.98642631961\n",
      "[ True  True  True False  True False  True  True  True  True  True  True\n",
      " False  True  True False False False False False]\n",
      "Loaded datasets with 2500 X 7 in 0.012208067026222125 secs\n",
      "\n",
      "(2500,)\n",
      "[2 2 3 1 1 1 0 0 3 2 3 3 0 2 1 1 2 0 1 1 2 2 2 3 0 1 3 3 1 1 1 1 1 0 0]\n",
      "[3 2 3 0 1 0 0 0 3 0 3 3 0 3 1 1 0 0 3 2 2 2 1 3 3 1 3 2 1 3 2 3 1 0 2]\n",
      "0.526\n"
     ]
    }
   ],
   "source": [
    "from ensemble import backward_greedy_ensemble_search\n",
    "from ensemble import collect_predictions_from_dirs\n",
    "\n",
    "from dataset import load_data_frame\n",
    "from dataset import get_answers\n",
    "\n",
    "from evaluation import compute_accuracy\n",
    "from evaluation import hard_abs_correlation_of_preds\n",
    "\n",
    "from ensemble import majority_vote, hard_averaging_predictions\n",
    "from ensemble import forward_metric_pred_selection\n",
    "\n",
    "dirs = ['../scores/',\n",
    "        # '../grid-scores/'\n",
    "       #'../models/word2vec/exp_2015-12-09_06-59-30/',\n",
    "       #'../models/word2vec/exp_2015-12-09_09-32-45/',\n",
    "       #'../models/word2vec/exp_2015-12-09_11-02-01/'\n",
    "       ]\n",
    "preds = collect_predictions_from_dirs(dirs,\n",
    "                                    'train.scores')\n",
    "\n",
    "correct_answers = get_answers(load_data_frame('../data/training_set.tsv'), numeric=True)\n",
    "\n",
    "corr_ids = forward_metric_pred_selection(preds, \n",
    "                             compute_metric=hard_abs_correlation_of_preds,\n",
    "                             threshold=.75)\n",
    "\n",
    "print(corr_ids)\n",
    "\n",
    "from dataset import load_data_frame\n",
    "from dataset import get_answers\n",
    "\n",
    "correct_answers = get_answers(load_data_frame('../data/training_set.tsv'), numeric=True)\n",
    "\n",
    "from ensemble import hard_averaging_predictions\n",
    "hard_avg_corr_preds = hard_averaging_predictions(preds[:, :, corr_ids])\n",
    "print(hard_avg_corr_preds.shape)\n",
    "\n",
    "print(correct_answers[:35])\n",
    "print(hard_avg_corr_preds[:35])\n",
    "\n",
    "\n",
    "from evaluation import compute_accuracy\n",
    "\n",
    "train_acc = compute_accuracy(correct_answers, hard_avg_corr_preds)\n",
    "print(train_acc)"
   ]
  },
  {
   "cell_type": "code",
   "execution_count": null,
   "metadata": {
    "collapsed": false
   },
   "outputs": [],
   "source": []
  },
  {
   "cell_type": "code",
   "execution_count": 5,
   "metadata": {
    "collapsed": false
   },
   "outputs": [
    {
     "name": "stdout",
     "output_type": "stream",
     "text": [
      "*** Processing dir: ../scores/\n",
      "Processing file: ../scores/066/valid.scores.preds\n",
      "Processing file: ../scores/062/062_fg_valid.scores\n",
      "Processing file: ../scores/071/071_fg_valid.scores\n",
      "Processing file: ../scores/074/074_fg_valid.scores\n",
      "Processing file: ../scores/1024/1024_fg_valid.scores\n",
      "Processing file: ../scores/1002/1002_fg_valid.scores\n",
      "Processing file: ../scores/067/067_fg_valid.scores\n",
      "Processing file: ../scores/1009/valid.scores\n",
      "Processing file: ../scores/1004/1004_fg_valid.scores\n",
      "Processing file: ../scores/1017/1017_fg_valid.scores\n",
      "Processing file: ../scores/1011/valid.scores\n",
      "Processing file: ../scores/075/075_fg_valid.scores\n",
      "Processing file: ../scores/070/070_fg_valid.scores\n",
      "Processing file: ../scores/072/072_fg_valid.scores\n",
      "Processing file: ../scores/051/051_valid.scores\n",
      "Processing file: ../scores/1022/1022_fg_valid.scores\n",
      "Processing file: ../scores/1019/1019_fg_valid.scores\n",
      "Processing file: ../scores/065/valid.scores.preds\n",
      "Processing file: ../scores/060/060_fg_valid.scores\n",
      "Processing file: ../scores/1007/valid.scores\n",
      "(8132, 4, 20)\n",
      "[2 1 1 ..., 1 0 0]\n",
      "Loaded datasets with 8132 X 6 in 0.026837370009161532 secs\n",
      "\n"
     ]
    }
   ],
   "source": [
    "from evaluation import hard_preds\n",
    "\n",
    "test_preds = collect_predictions_from_dirs(['../scores/'],\n",
    "                                    'valid.scores')\n",
    "print(test_preds.shape)\n",
    "#\n",
    "# extract just the best\n",
    "best_test_preds = test_preds[:, :, ids]\n",
    "hard_best_test_preds = hard_averaging_predictions(best_test_preds)\n",
    "print(hard_best_test_preds)\n",
    "\n",
    "from evaluation import create_submission\n",
    "from dataset import numbers_to_letters\n",
    "preds = numbers_to_letters(hard_best_test_preds)\n",
    "\n",
    "ens_sub = create_submission(preds, '../submissions/1027.csv')"
   ]
  },
  {
   "cell_type": "code",
   "execution_count": 4,
   "metadata": {
    "collapsed": false
   },
   "outputs": [
    {
     "name": "stdout",
     "output_type": "stream",
     "text": [
      "Processing file: ../models/word2vec/f/exp_2015-12-04_20-11-58/1/train.preds\n",
      "Processing file: ../models/word2vec/f/exp_2015-12-04_20-11-58/3/train.preds\n",
      "Processing file: ../models/word2vec/f/exp_2015-12-05_12-18-52/1/train.preds\n",
      "Processing file: ../models/word2vec/f/exp_2015-12-05_12-18-52/3/train.preds\n",
      "Processing file: ../models/word2vec/f/exp_2015-12-04_21-38-39/1/train.preds\n",
      "Processing file: ../models/word2vec/f/exp_2015-12-04_21-38-39/3/train.preds\n",
      "Processing file: ../models/word2vec/f/exp_2015-12-04_22-14-04/1/train.preds\n",
      "Processing file: ../models/word2vec/f/exp_2015-12-04_22-14-04/3/train.preds\n",
      "Processing file: ../models/word2vec/f/exp_2015-12-05_09-51-01/1/train.preds\n",
      "Processing file: ../models/word2vec/f/exp_2015-12-05_09-51-01/3/train.preds\n",
      "Processing file: ../models/word2vec/f/exp_2015-12-04_20-54-47/1/train.preds\n",
      "Processing file: ../models/word2vec/f/exp_2015-12-04_20-54-47/3/train.preds\n",
      "Processing file: ../models/word2vec/f/exp_2015-12-05_09-14-11/1/train.preds\n",
      "Processing file: ../models/word2vec/f/exp_2015-12-05_09-14-11/3/train.preds\n",
      "Loaded datasets with 2500 X 7 in 0.023750198000925593 secs\n",
      "\n",
      "Found an improvement by adding 12 [acc:0.406]\n",
      "Found an improvement by adding 0 [acc:0.4096]\n",
      "Found an improvement by adding 6 [acc:0.4108]\n",
      "Found an improvement by adding 2 [acc:0.4092]\n",
      "Found an improvement by adding 10 [acc:0.4116]\n",
      "Found an improvement by adding 8 [acc:0.4088]\n",
      "Found an improvement by adding 7 [acc:0.4084]\n",
      "Found an improvement by adding 13 [acc:0.408]\n",
      "Found an improvement by adding 3 [acc:0.4092]\n",
      "Found an improvement by adding 4 [acc:0.4108]\n",
      "Found an improvement by adding 11 [acc:0.41]\n",
      "Found an improvement by adding 1 [acc:0.4092]\n",
      "Found an improvement by adding 5 [acc:0.4088]\n",
      "Found an improvement by adding 9 [acc:0.4076]\n",
      "No more improvements:0.4076\n",
      "[2 2 3 1 1 1 0 0 3 2 3 3 0 2 1 1 2 0 1 1 2 2 2 3 0 1 3 3 1 1 1 1 1 0 0]\n",
      "[3 2 1 3 0 1 1 0 0 0 3 3 0 3 2 1 1 0 3 2 2 2 2 3 2 1 0 2 1 3 3 3 2 0 0]\n",
      "[ True False  True False False False  True False False False  True False\n",
      "  True False]\n",
      "0.4116\n"
     ]
    }
   ],
   "source": [
    "from ensemble import forward_greedy_ensemble_search\n",
    "from ensemble import collect_predictions_from_dir\n",
    "\n",
    "from dataset import load_data_frame\n",
    "from dataset import get_answers\n",
    "\n",
    "from evaluation import compute_accuracy\n",
    "\n",
    "from ensemble import majority_vote, hard_averaging_predictions\n",
    "\n",
    "preds = collect_predictions_from_dir('../models/word2vec/f/',\n",
    "                                    'train.preds')\n",
    "\n",
    "\n",
    "correct_answers = get_answers(load_data_frame('../data/training_set.tsv'), numeric=True)\n",
    "\n",
    "best_preds, best_score, ids = forward_greedy_ensemble_search(preds,\n",
    "                                    correct_answers,\n",
    "                                    combine_rule=hard_averaging_predictions,\n",
    "                                    metric=compute_accuracy,\n",
    "                                                epsilon=0.003)\n",
    "\n",
    "print(correct_answers[:35])\n",
    "print(best_preds[:35])\n",
    "print(ids)\n",
    "print(best_score)"
   ]
  },
  {
   "cell_type": "code",
   "execution_count": 20,
   "metadata": {
    "collapsed": false
   },
   "outputs": [
    {
     "name": "stdout",
     "output_type": "stream",
     "text": [
      "*** Processing dir: ../scores/\n",
      "Processing file: ../scores/066/train.scores.preds\n",
      "Processing file: ../scores/062/062_fg_train.scores\n",
      "Processing file: ../scores/071/071_fg_train.scores\n",
      "Processing file: ../scores/074/074_fg_train.scores\n",
      "Processing file: ../scores/1024/1024_fg_train.scores\n",
      "Processing file: ../scores/1002/1002_fg_train.scores\n",
      "Processing file: ../scores/067/067_fg_train.scores\n",
      "Processing file: ../scores/1009/train.scores\n",
      "Processing file: ../scores/1004/1004_fg_train.scores\n",
      "Processing file: ../scores/1017/1017_fg_train.scores\n",
      "Processing file: ../scores/1011/train.scores\n",
      "Processing file: ../scores/075/075_fg_train.scores\n",
      "Processing file: ../scores/070/070_fg_train.scores\n",
      "Processing file: ../scores/072/072_fg_train.scores\n",
      "Processing file: ../scores/051/051_train.scores\n",
      "Processing file: ../scores/1022/1022_fg_train.scores\n",
      "Processing file: ../scores/1019/1019_fg_train.scores\n",
      "Processing file: ../scores/065/train.scores.preds\n",
      "Processing file: ../scores/060/060_fg_train.scores\n",
      "Processing file: ../scores/1007/train.scores\n",
      "(2500, 4, 20)\n",
      "[0.42799999999999999, 0.48880000000000001, 0.46560000000000001, 0.49320000000000003, 0.4768, 0.48320000000000002, 0.47160000000000002, 0.436, 0.47799999999999998, 0.49840000000000001, 0.41720000000000002, 0.49320000000000003, 0.48799999999999999, 0.46079999999999999, 0.42080000000000001, 0.51039999999999996, 0.50600000000000001, 0.42720000000000002, 0.48320000000000002, 0.43880000000000002]\n"
     ]
    }
   ],
   "source": [
    "import numpy\n",
    "\n",
    "from ensemble import majority_vote, collect_predictions_from_dir, collect_predictions_from_dirs\n",
    "from evaluation import hard_preds\n",
    "\n",
    "dirs = [\n",
    "    # '../grid-scores/eng-anal/',\n",
    "    '../scores/',\n",
    "    # '../grid-scores/std-anal/',\n",
    "         \n",
    "       ]\n",
    "# dirs = ['../models/word2vec/041/3/',\n",
    "#        '../models/word2vec/051/1/',\n",
    "#       '../models/word2vec/065/1/',\n",
    "#       '../models/word2vec/066/1/']\n",
    "preds = collect_predictions_from_dirs(dirs,\n",
    "                                    'train.scores')\n",
    "print(preds.shape)\n",
    "hard_preds_matrix = hard_preds(preds)\n",
    "n_predictors = preds.shape[2]\n",
    "#\n",
    "# make them\n",
    "train_accuracies = []\n",
    "for i in range(n_predictors):\n",
    "    train_accuracies.append(compute_accuracy(correct_answers, hard_preds_matrix[:, i]))\n",
    "    \n",
    "print(train_accuracies)\n",
    "\n",
    "train_accuracies = numpy.array(train_accuracies)"
   ]
  },
  {
   "cell_type": "code",
   "execution_count": 23,
   "metadata": {
    "collapsed": false
   },
   "outputs": [
    {
     "name": "stdout",
     "output_type": "stream",
     "text": [
      "0.5276\n",
      "0.5276\n",
      "0.5268\n"
     ]
    }
   ],
   "source": [
    "import scipy.stats\n",
    "from ensemble import weighted_averaging_predictions, logistic_predictions\n",
    "\n",
    "w_preds = weighted_averaging_predictions(preds, train_accuracies)\n",
    "hard_w_preds = hard_preds(w_preds)\n",
    "\n",
    "train_w_acc = compute_accuracy(correct_answers, hard_w_preds)\n",
    "print(train_w_acc)\n",
    "\n",
    "logistic_preds = logistic_predictions(preds, train_accuracies)\n",
    "hard_log_preds = hard_preds(logistic_preds)\n",
    "\n",
    "train_log_acc = compute_accuracy(correct_answers, hard_log_preds)\n",
    "print(train_log_acc)\n",
    "\n",
    "w_preds = weighted_averaging_predictions(preds, scipy.stats.rankdata(train_accuracies))\n",
    "hard_w_preds = hard_preds(w_preds)\n",
    "\n",
    "train_w_acc = compute_accuracy(correct_answers, hard_w_preds)\n",
    "print(train_w_acc)"
   ]
  },
  {
   "cell_type": "code",
   "execution_count": null,
   "metadata": {
    "collapsed": true
   },
   "outputs": [],
   "source": []
  }
 ],
 "metadata": {
  "kernelspec": {
   "display_name": "Python 3",
   "language": "python",
   "name": "python3"
  },
  "language_info": {
   "codemirror_mode": {
    "name": "ipython",
    "version": 3
   },
   "file_extension": ".py",
   "mimetype": "text/x-python",
   "name": "python",
   "nbconvert_exporter": "python",
   "pygments_lexer": "ipython3",
   "version": "3.4.0"
  }
 },
 "nbformat": 4,
 "nbformat_minor": 0
}
